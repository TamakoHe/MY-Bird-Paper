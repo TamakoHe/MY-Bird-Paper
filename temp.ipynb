{
 "cells": [
  {
   "cell_type": "code",
   "execution_count": 1,
   "metadata": {},
   "outputs": [],
   "source": [
    "import numpy as np"
   ]
  },
  {
   "cell_type": "code",
   "execution_count": null,
   "metadata": {},
   "outputs": [],
   "source": [
    "stds=np.load(\"stds.npy\")\n",
    "centers=np.load(\"centers.npy\")"
   ]
  },
  {
   "cell_type": "code",
   "execution_count": 6,
   "metadata": {},
   "outputs": [
    {
     "name": "stdout",
     "output_type": "stream",
     "text": [
      "[2.4871936568499184, 2.497301162037346, 2.435337257486224]\n",
      "[87.34482758620689, 89.24137931034483, 82.96551724137932]\n"
     ]
    }
   ],
   "source": [
    "print([np.average(stds[:,0]), np.average(stds[:,1]), np.average(stds[:,2])])\n",
    "print([np.average(centers[:,0]), np.average(centers[:,1]), np.average(centers[:,2])])"
   ]
  }
 ],
 "metadata": {
  "kernelspec": {
   "display_name": "base",
   "language": "python",
   "name": "python3"
  },
  "language_info": {
   "codemirror_mode": {
    "name": "ipython",
    "version": 3
   },
   "file_extension": ".py",
   "mimetype": "text/x-python",
   "name": "python",
   "nbconvert_exporter": "python",
   "pygments_lexer": "ipython3",
   "version": "3.12.7"
  }
 },
 "nbformat": 4,
 "nbformat_minor": 2
}
